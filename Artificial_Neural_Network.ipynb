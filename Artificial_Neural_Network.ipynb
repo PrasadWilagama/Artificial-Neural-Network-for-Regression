{
  "nbformat": 4,
  "nbformat_minor": 0,
  "metadata": {
    "colab": {
      "provenance": []
    },
    "kernelspec": {
      "name": "python3",
      "display_name": "Python 3"
    }
  },
  "cells": [
    {
      "cell_type": "markdown",
      "metadata": {
        "id": "3cbb7fRy-eyr"
      },
      "source": [
        "# Artificial Neural Network"
      ]
    },
    {
      "cell_type": "markdown",
      "metadata": {
        "id": "8sNDnxE2-pwE"
      },
      "source": [
        "### Importing the libraries"
      ]
    },
    {
      "cell_type": "code",
      "metadata": {
        "id": "lxChR1Rk-umf"
      },
      "source": [
        "import numpy as np\n",
        "import pandas as pd\n",
        "import tensorflow as tf"
      ],
      "execution_count": 1,
      "outputs": []
    },
    {
      "cell_type": "code",
      "metadata": {
        "id": "uBTqR3nacj0e",
        "colab": {
          "base_uri": "https://localhost:8080/",
          "height": 35
        },
        "outputId": "3a618f79-bd6b-4e01-d7af-244ae9fc7f98"
      },
      "source": [
        "tf.__version__"
      ],
      "execution_count": 2,
      "outputs": [
        {
          "output_type": "execute_result",
          "data": {
            "text/plain": [
              "'2.9.2'"
            ],
            "application/vnd.google.colaboratory.intrinsic+json": {
              "type": "string"
            }
          },
          "metadata": {},
          "execution_count": 2
        }
      ]
    },
    {
      "cell_type": "markdown",
      "metadata": {
        "id": "AG3FQEch-yuA"
      },
      "source": [
        "## Part 1 - Data Preprocessing"
      ]
    },
    {
      "cell_type": "markdown",
      "metadata": {
        "id": "-4zq8Mza_D9O"
      },
      "source": [
        "### Importing the dataset"
      ]
    },
    {
      "cell_type": "code",
      "metadata": {
        "id": "B9CV13Co_HHM"
      },
      "source": [
        "dataset = pd.read_excel('Folds5x2_pp.xlsx')\n",
        "X = dataset.iloc[:, :-1].values\n",
        "y = dataset.iloc[:, -1].values"
      ],
      "execution_count": 4,
      "outputs": []
    },
    {
      "cell_type": "markdown",
      "metadata": {
        "id": "VC6omXel_Up0"
      },
      "source": [
        "### Splitting the dataset into the Training set and Test set"
      ]
    },
    {
      "cell_type": "code",
      "metadata": {
        "id": "L5edeb2r_agx"
      },
      "source": [
        "from sklearn.model_selection import train_test_split\n",
        "X_train, X_test, y_train, y_test = train_test_split(X, y, test_size = 0.2, random_state = 0)"
      ],
      "execution_count": 5,
      "outputs": []
    },
    {
      "cell_type": "markdown",
      "metadata": {
        "id": "_mSLlAT9_eyI"
      },
      "source": [
        "## Part 2 - Building the ANN"
      ]
    },
    {
      "cell_type": "markdown",
      "metadata": {
        "id": "CsBULd_f_wLY"
      },
      "source": [
        "### Initializing the ANN"
      ]
    },
    {
      "cell_type": "code",
      "metadata": {
        "id": "J6Hd97Ls__Nz"
      },
      "source": [
        "ann = tf.keras.models.Sequential()"
      ],
      "execution_count": 6,
      "outputs": []
    },
    {
      "cell_type": "markdown",
      "metadata": {
        "id": "iitAFJS_ABUn"
      },
      "source": [
        "### Adding the input layer and the first hidden layer"
      ]
    },
    {
      "cell_type": "code",
      "metadata": {
        "id": "ksO_Vv40AHix"
      },
      "source": [
        "ann.add(tf.keras.layers.Dense(units=6, activation='relu'))"
      ],
      "execution_count": 7,
      "outputs": []
    },
    {
      "cell_type": "markdown",
      "metadata": {
        "id": "-lb4kK_wAKbs"
      },
      "source": [
        "### Adding the second hidden layer"
      ]
    },
    {
      "cell_type": "code",
      "metadata": {
        "id": "c2357OqEAQOQ"
      },
      "source": [
        "ann.add(tf.keras.layers.Dense(units=6, activation='relu'))"
      ],
      "execution_count": 8,
      "outputs": []
    },
    {
      "cell_type": "markdown",
      "metadata": {
        "id": "jwMOmKb3AdBY"
      },
      "source": [
        "### Adding the output layer"
      ]
    },
    {
      "cell_type": "code",
      "metadata": {
        "id": "YFATpzsUAkLL"
      },
      "source": [
        "ann.add(tf.keras.layers.Dense(units=1))"
      ],
      "execution_count": 9,
      "outputs": []
    },
    {
      "cell_type": "markdown",
      "metadata": {
        "id": "fq7e4fF6A1yy"
      },
      "source": [
        "## Part 3 - Training the ANN"
      ]
    },
    {
      "cell_type": "markdown",
      "metadata": {
        "id": "qDeylAs2An25"
      },
      "source": [
        "### Compiling the ANN"
      ]
    },
    {
      "cell_type": "code",
      "metadata": {
        "id": "pesgbWlCAtB4"
      },
      "source": [
        "ann.compile(optimizer = 'adam', loss = 'mean_squared_error')"
      ],
      "execution_count": 10,
      "outputs": []
    },
    {
      "cell_type": "markdown",
      "metadata": {
        "id": "YjVuiybYOo7r"
      },
      "source": [
        "### Training the ANN model on the Training set"
      ]
    },
    {
      "cell_type": "code",
      "metadata": {
        "id": "c_vV-tiiA5zn",
        "colab": {
          "base_uri": "https://localhost:8080/"
        },
        "outputId": "95748ae8-b776-44f9-94ae-0ab5293343c1"
      },
      "source": [
        "ann.fit(X_train, y_train, batch_size = 32, epochs = 100)"
      ],
      "execution_count": 11,
      "outputs": [
        {
          "output_type": "stream",
          "name": "stdout",
          "text": [
            "Epoch 1/100\n",
            "240/240 [==============================] - 1s 967us/step - loss: 210628.7344\n",
            "Epoch 2/100\n",
            "240/240 [==============================] - 0s 901us/step - loss: 206360.8750\n",
            "Epoch 3/100\n",
            "240/240 [==============================] - 0s 961us/step - loss: 206144.0000\n",
            "Epoch 4/100\n",
            "240/240 [==============================] - 0s 907us/step - loss: 205926.8750\n",
            "Epoch 5/100\n",
            "240/240 [==============================] - 0s 949us/step - loss: 205709.7969\n",
            "Epoch 6/100\n",
            "240/240 [==============================] - 0s 887us/step - loss: 205492.7812\n",
            "Epoch 7/100\n",
            "240/240 [==============================] - 0s 917us/step - loss: 205275.9219\n",
            "Epoch 8/100\n",
            "240/240 [==============================] - 0s 835us/step - loss: 205058.9375\n",
            "Epoch 9/100\n",
            "240/240 [==============================] - 0s 837us/step - loss: 204842.2969\n",
            "Epoch 10/100\n",
            "240/240 [==============================] - 0s 929us/step - loss: 204625.6406\n",
            "Epoch 11/100\n",
            "240/240 [==============================] - 0s 906us/step - loss: 204409.1875\n",
            "Epoch 12/100\n",
            "240/240 [==============================] - 0s 838us/step - loss: 204192.8281\n",
            "Epoch 13/100\n",
            "240/240 [==============================] - 0s 971us/step - loss: 203976.4688\n",
            "Epoch 14/100\n",
            "240/240 [==============================] - 0s 912us/step - loss: 203760.2812\n",
            "Epoch 15/100\n",
            "240/240 [==============================] - 0s 917us/step - loss: 203544.3594\n",
            "Epoch 16/100\n",
            "240/240 [==============================] - 0s 982us/step - loss: 203328.4688\n",
            "Epoch 17/100\n",
            "240/240 [==============================] - 0s 911us/step - loss: 203112.6875\n",
            "Epoch 18/100\n",
            "240/240 [==============================] - 0s 900us/step - loss: 202897.0781\n",
            "Epoch 19/100\n",
            "240/240 [==============================] - 0s 978us/step - loss: 202681.5156\n",
            "Epoch 20/100\n",
            "240/240 [==============================] - 0s 891us/step - loss: 202466.0781\n",
            "Epoch 21/100\n",
            "240/240 [==============================] - 0s 922us/step - loss: 202250.7188\n",
            "Epoch 22/100\n",
            "240/240 [==============================] - 0s 944us/step - loss: 202035.5312\n",
            "Epoch 23/100\n",
            "240/240 [==============================] - 0s 975us/step - loss: 201820.5156\n",
            "Epoch 24/100\n",
            "240/240 [==============================] - 0s 1ms/step - loss: 201605.5000\n",
            "Epoch 25/100\n",
            "240/240 [==============================] - 0s 922us/step - loss: 201390.6719\n",
            "Epoch 26/100\n",
            "240/240 [==============================] - 0s 950us/step - loss: 201175.9844\n",
            "Epoch 27/100\n",
            "240/240 [==============================] - 0s 876us/step - loss: 200961.3438\n",
            "Epoch 28/100\n",
            "240/240 [==============================] - 0s 953us/step - loss: 200746.8750\n",
            "Epoch 29/100\n",
            "240/240 [==============================] - 0s 915us/step - loss: 200532.4531\n",
            "Epoch 30/100\n",
            "240/240 [==============================] - 0s 876us/step - loss: 200318.1875\n",
            "Epoch 31/100\n",
            "240/240 [==============================] - 0s 913us/step - loss: 200104.1406\n",
            "Epoch 32/100\n",
            "240/240 [==============================] - 0s 937us/step - loss: 199890.0312\n",
            "Epoch 33/100\n",
            "240/240 [==============================] - 0s 914us/step - loss: 199676.1406\n",
            "Epoch 34/100\n",
            "240/240 [==============================] - 0s 905us/step - loss: 199462.4531\n",
            "Epoch 35/100\n",
            "240/240 [==============================] - 0s 904us/step - loss: 199248.6562\n",
            "Epoch 36/100\n",
            "240/240 [==============================] - 0s 943us/step - loss: 199034.9844\n",
            "Epoch 37/100\n",
            "240/240 [==============================] - 0s 956us/step - loss: 198821.6094\n",
            "Epoch 38/100\n",
            "240/240 [==============================] - 0s 907us/step - loss: 198608.2656\n",
            "Epoch 39/100\n",
            "240/240 [==============================] - 0s 894us/step - loss: 198395.0312\n",
            "Epoch 40/100\n",
            "240/240 [==============================] - 0s 917us/step - loss: 198181.9688\n",
            "Epoch 41/100\n",
            "240/240 [==============================] - 0s 970us/step - loss: 197968.9219\n",
            "Epoch 42/100\n",
            "240/240 [==============================] - 0s 900us/step - loss: 197756.1719\n",
            "Epoch 43/100\n",
            "240/240 [==============================] - 0s 895us/step - loss: 197543.2656\n",
            "Epoch 44/100\n",
            "240/240 [==============================] - 0s 927us/step - loss: 197330.7188\n",
            "Epoch 45/100\n",
            "240/240 [==============================] - 0s 911us/step - loss: 197118.1875\n",
            "Epoch 46/100\n",
            "240/240 [==============================] - 0s 895us/step - loss: 196905.7969\n",
            "Epoch 47/100\n",
            "240/240 [==============================] - 0s 969us/step - loss: 196693.4219\n",
            "Epoch 48/100\n",
            "240/240 [==============================] - 0s 936us/step - loss: 196481.2500\n",
            "Epoch 49/100\n",
            "240/240 [==============================] - 0s 910us/step - loss: 196269.1406\n",
            "Epoch 50/100\n",
            "240/240 [==============================] - 0s 895us/step - loss: 196057.1562\n",
            "Epoch 51/100\n",
            "240/240 [==============================] - 0s 945us/step - loss: 195845.3125\n",
            "Epoch 52/100\n",
            "240/240 [==============================] - 0s 884us/step - loss: 195633.5625\n",
            "Epoch 53/100\n",
            "240/240 [==============================] - 0s 875us/step - loss: 195422.0156\n",
            "Epoch 54/100\n",
            "240/240 [==============================] - 0s 888us/step - loss: 195210.5156\n",
            "Epoch 55/100\n",
            "240/240 [==============================] - 0s 942us/step - loss: 194999.1875\n",
            "Epoch 56/100\n",
            "240/240 [==============================] - 0s 883us/step - loss: 194787.8281\n",
            "Epoch 57/100\n",
            "240/240 [==============================] - 0s 887us/step - loss: 194576.6406\n",
            "Epoch 58/100\n",
            "240/240 [==============================] - 0s 883us/step - loss: 194365.6719\n",
            "Epoch 59/100\n",
            "240/240 [==============================] - 0s 934us/step - loss: 194154.7344\n",
            "Epoch 60/100\n",
            "240/240 [==============================] - 0s 902us/step - loss: 193943.8594\n",
            "Epoch 61/100\n",
            "240/240 [==============================] - 0s 904us/step - loss: 193733.2500\n",
            "Epoch 62/100\n",
            "240/240 [==============================] - 0s 895us/step - loss: 193522.6250\n",
            "Epoch 63/100\n",
            "240/240 [==============================] - 0s 883us/step - loss: 193312.1562\n",
            "Epoch 64/100\n",
            "240/240 [==============================] - 0s 918us/step - loss: 193101.8125\n",
            "Epoch 65/100\n",
            "240/240 [==============================] - 0s 881us/step - loss: 192891.5781\n",
            "Epoch 66/100\n",
            "240/240 [==============================] - 0s 860us/step - loss: 192681.4688\n",
            "Epoch 67/100\n",
            "240/240 [==============================] - 0s 891us/step - loss: 192471.5469\n",
            "Epoch 68/100\n",
            "240/240 [==============================] - 0s 924us/step - loss: 192261.5781\n",
            "Epoch 69/100\n",
            "240/240 [==============================] - 0s 902us/step - loss: 192051.9062\n",
            "Epoch 70/100\n",
            "240/240 [==============================] - 0s 870us/step - loss: 191842.2656\n",
            "Epoch 71/100\n",
            "240/240 [==============================] - 0s 839us/step - loss: 191632.6094\n",
            "Epoch 72/100\n",
            "240/240 [==============================] - 0s 883us/step - loss: 191423.2500\n",
            "Epoch 73/100\n",
            "240/240 [==============================] - 0s 904us/step - loss: 191213.8750\n",
            "Epoch 74/100\n",
            "240/240 [==============================] - 0s 911us/step - loss: 191004.7812\n",
            "Epoch 75/100\n",
            "240/240 [==============================] - 0s 921us/step - loss: 190795.6250\n",
            "Epoch 76/100\n",
            "240/240 [==============================] - 0s 914us/step - loss: 190586.5625\n",
            "Epoch 77/100\n",
            "240/240 [==============================] - 0s 876us/step - loss: 190377.7969\n",
            "Epoch 78/100\n",
            "240/240 [==============================] - 0s 934us/step - loss: 190169.0625\n",
            "Epoch 79/100\n",
            "240/240 [==============================] - 0s 892us/step - loss: 189960.3750\n",
            "Epoch 80/100\n",
            "240/240 [==============================] - 0s 828us/step - loss: 189751.8906\n",
            "Epoch 81/100\n",
            "240/240 [==============================] - 0s 872us/step - loss: 189543.5469\n",
            "Epoch 82/100\n",
            "240/240 [==============================] - 0s 973us/step - loss: 189335.2500\n",
            "Epoch 83/100\n",
            "240/240 [==============================] - 0s 861us/step - loss: 189127.0938\n",
            "Epoch 84/100\n",
            "240/240 [==============================] - 0s 892us/step - loss: 188919.0469\n",
            "Epoch 85/100\n",
            "240/240 [==============================] - 0s 903us/step - loss: 188711.1094\n",
            "Epoch 86/100\n",
            "240/240 [==============================] - 0s 922us/step - loss: 188503.1719\n",
            "Epoch 87/100\n",
            "240/240 [==============================] - 0s 904us/step - loss: 188295.5312\n",
            "Epoch 88/100\n",
            "240/240 [==============================] - 0s 887us/step - loss: 188087.9531\n",
            "Epoch 89/100\n",
            "240/240 [==============================] - 0s 895us/step - loss: 187880.3906\n",
            "Epoch 90/100\n",
            "240/240 [==============================] - 0s 936us/step - loss: 187673.1562\n",
            "Epoch 91/100\n",
            "240/240 [==============================] - 0s 963us/step - loss: 187465.8906\n",
            "Epoch 92/100\n",
            "240/240 [==============================] - 0s 914us/step - loss: 187258.6875\n",
            "Epoch 93/100\n",
            "240/240 [==============================] - 0s 895us/step - loss: 187051.7812\n",
            "Epoch 94/100\n",
            "240/240 [==============================] - 0s 916us/step - loss: 186844.8438\n",
            "Epoch 95/100\n",
            "240/240 [==============================] - 0s 923us/step - loss: 186638.2031\n",
            "Epoch 96/100\n",
            "240/240 [==============================] - 0s 943us/step - loss: 186431.4531\n",
            "Epoch 97/100\n",
            "240/240 [==============================] - 0s 876us/step - loss: 186224.8281\n",
            "Epoch 98/100\n",
            "240/240 [==============================] - 0s 871us/step - loss: 186018.4531\n",
            "Epoch 99/100\n",
            "240/240 [==============================] - 0s 923us/step - loss: 185812.1406\n",
            "Epoch 100/100\n",
            "240/240 [==============================] - 0s 932us/step - loss: 185605.9219\n"
          ]
        },
        {
          "output_type": "execute_result",
          "data": {
            "text/plain": [
              "<keras.callbacks.History at 0x7f8727be8730>"
            ]
          },
          "metadata": {},
          "execution_count": 11
        }
      ]
    },
    {
      "cell_type": "markdown",
      "metadata": {
        "id": "0H0zKKNEBLD5"
      },
      "source": [
        "### Predicting the results of the Test set"
      ]
    },
    {
      "cell_type": "code",
      "metadata": {
        "id": "IA0yApEmBG1X",
        "colab": {
          "base_uri": "https://localhost:8080/"
        },
        "outputId": "2d9ee3f8-fbb7-4440-caf3-8a387b4fb6ce"
      },
      "source": [
        "y_pred = ann.predict(X_test)\n",
        "np.set_printoptions(precision=2)\n",
        "print(np.concatenate((y_pred.reshape(len(y_pred),1), y_test.reshape(len(y_test),1)),1))"
      ],
      "execution_count": 12,
      "outputs": [
        {
          "output_type": "stream",
          "name": "stdout",
          "text": [
            "60/60 [==============================] - 0s 664us/step\n",
            "[[ 23.94 431.23]\n",
            " [ 23.94 460.01]\n",
            " [ 23.94 461.14]\n",
            " ...\n",
            " [ 23.94 473.26]\n",
            " [ 23.94 438.  ]\n",
            " [ 23.94 463.28]]\n"
          ]
        }
      ]
    }
  ]
}